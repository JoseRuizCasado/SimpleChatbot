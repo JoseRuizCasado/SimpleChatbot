{
 "cells": [
  {
   "cell_type": "markdown",
   "source": [
    "This is a chatbot created following these [tutorial](https://towardsdatascience.com/building-a-chatbot-in-python-the-beginners-guide-2743ad2b4851)  \n",
    "First thing to do is ask for a user name, that way the chatbot will seem more realistic."
   ],
   "metadata": {
    "collapsed": false,
    "pycharm": {
     "name": "#%% md\n"
    }
   }
  },
  {
   "cell_type": "code",
   "execution_count": 1,
   "metadata": {
    "collapsed": true,
    "pycharm": {
     "name": "#%%\n",
     "is_executing": false
    }
   },
   "outputs": [
    {
     "name": "stdout",
     "text": [
      "Bot: What do you want me to call you?\n"
     ],
     "output_type": "stream"
    }
   ],
   "source": [
    "import random\n",
    "print('Bot: What do you want me to call you?')\n",
    "user_name = input()"
   ]
  },
  {
   "cell_type": "markdown",
   "source": [
    "Now, let's create the template for the interlocutors in the conversation. For this project\n",
    "we only have 2 interlocutors."
   ],
   "metadata": {
    "collapsed": false
   }
  },
  {
   "cell_type": "code",
   "execution_count": 2,
   "outputs": [],
   "source": [
    "bot_template = 'BOT : '\n",
    "user_template = f'{user_name}: ' "
   ],
   "metadata": {
    "collapsed": false,
    "pycharm": {
     "name": "#%%\n",
     "is_executing": false
    }
   }
  },
  {
   "cell_type": "markdown",
   "source": [
    "The bulk of the responses is defined below."
   ],
   "metadata": {
    "collapsed": false,
    "pycharm": {
     "name": "#%% md\n"
    }
   }
  },
  {
   "cell_type": "code",
   "execution_count": 3,
   "outputs": [],
   "source": [
    "name = 'Testing Bot'\n",
    "weather = 'rainy' \n",
    "mood = 'Happy'\n",
    "\n",
    "responses = { \n",
    "'what\\'s your name?': [ \n",
    "    f'They call me {name}', \n",
    "    f'I usually go by {name}', \n",
    "    f'My name is the {name}' ],\n",
    "'what\\'s today\\'s weather?': [ \n",
    "    f'The weather is {weather}', \n",
    "    f'It\\'s {weather} today', \n",
    "    f'Let me check, it looks {weather} today' ],\n",
    "'Are you a robot?': [ \n",
    "    'What do you think?', \n",
    "    'Maybe yes, maybe no!', \n",
    "    'Yes, I am a robot with human feelings.', ],\n",
    "'how are you?': [ \n",
    "    f'I am feeling {mood}', \n",
    "    f'{mood}! How about you?', \n",
    "    f'I am {mood}! How about yourself?', ],\n",
    "'': [ \n",
    "    'Hey! Are you there?', \n",
    "    'What do you mean by saying nothing?', \n",
    "    'Sometimes saying nothing tells a lot :)', ],\n",
    "'default': [\n",
    "    'this is a default message'] }"
   ],
   "metadata": {
    "collapsed": false,
    "pycharm": {
     "name": "#%%\n",
     "is_executing": false
    }
   }
  },
  {
   "cell_type": "markdown",
   "source": [
    "At the beginning of this code, we are defining some variables that we will use in the conversation. Currently the\n",
    "variables are static, but we can, in example, call an API to get the weather.\n",
    "\n",
    "To define the responses as dictionaries help to found them by the question.  \n",
    "Now we define a function to select the response for a question.\n"
   ],
   "metadata": {
    "collapsed": false
   }
  },
  {
   "cell_type": "code",
   "execution_count": 4,
   "outputs": [],
   "source": [
    "def respond(message):\n",
    "    if message in responses: \n",
    "        bot_message = random.choice(responses[message])\n",
    "    else: \n",
    "        bot_message = random.choice(responses['default'])\n",
    "        \n",
    "    return bot_message"
   ],
   "metadata": {
    "collapsed": false,
    "pycharm": {
     "name": "#%%\n",
     "is_executing": false
    }
   }
  },
  {
   "cell_type": "markdown",
   "source": [
    "We need to define a function that help the user to make question to the chatbot, because is very probable that the user\n",
    "forget the questions that are defined. To improved the chatbot we can implement NLP techniques for these purpose."
   ],
   "metadata": {
    "collapsed": false
   }
  },
  {
   "cell_type": "code",
   "execution_count": 5,
   "outputs": [],
   "source": [
    "def related(x_text): \n",
    "    if 'name' in x_text: \n",
    "        y_text = 'what\\'s your name?'\n",
    "    elif 'weather' in x_text: \n",
    "        y_text = 'what\\'s today\\'s weather?'\n",
    "    elif 'robot' in x_text: \n",
    "        y_text = 'are you a robot?'\n",
    "    elif 'how are' in x_text: \n",
    "        y_text = 'how are you?'\n",
    "    else: \n",
    "        y_text = ''\n",
    "    \n",
    "    return y_text"
   ],
   "metadata": {
    "collapsed": false,
    "pycharm": {
     "name": "#%%\n",
     "is_executing": false
    }
   }
  },
  {
   "cell_type": "markdown",
   "source": [
    "The last function we need for the cahtbot is used to read the messages and take the response.\n"
   ],
   "metadata": {
    "collapsed": false
   }
  },
  {
   "cell_type": "code",
   "execution_count": 6,
   "outputs": [],
   "source": [
    "def send_message(message): \n",
    "  print(f'{user_template} {message}') \n",
    "  response = respond(message) \n",
    "  print(f'{bot_template} {response}')"
   ],
   "metadata": {
    "collapsed": false,
    "pycharm": {
     "name": "#%%\n",
     "is_executing": false
    }
   }
  },
  {
   "cell_type": "markdown",
   "source": [
    "Now, We use a loop to be able to converse with the chatbot"
   ],
   "metadata": {
    "collapsed": false
   }
  },
  {
   "cell_type": "code",
   "execution_count": 7,
   "outputs": [
    {
     "name": "stdout",
     "text": [
      "Jose:  what's your name?\n",
      "BOT :  I usually go by Testing Bot\n",
      "Jose:  \n",
      "BOT :  Hey! Are you there?\n"
     ],
     "output_type": "stream"
    }
   ],
   "source": [
    "while 1: \n",
    "  my_input = input() \n",
    "  my_input = my_input.lower() \n",
    "  related_text = related(my_input) \n",
    "  send_message(related_text)\n",
    "  if my_input == 'exit' or my_input == 'stop': \n",
    "      break\n"
   ],
   "metadata": {
    "collapsed": false,
    "pycharm": {
     "name": "#%%\n",
     "is_executing": false
    }
   }
  }
 ],
 "metadata": {
  "kernelspec": {
   "display_name": "Python 3",
   "language": "python",
   "name": "python3"
  },
  "language_info": {
   "codemirror_mode": {
    "name": "ipython",
    "version": 2
   },
   "file_extension": ".py",
   "mimetype": "text/x-python",
   "name": "python",
   "nbconvert_exporter": "python",
   "pygments_lexer": "ipython2",
   "version": "2.7.6"
  },
  "pycharm": {
   "stem_cell": {
    "cell_type": "raw",
    "source": [],
    "metadata": {
     "collapsed": false
    }
   }
  }
 },
 "nbformat": 4,
 "nbformat_minor": 0
}